{
 "cells": [
  {
   "cell_type": "code",
   "execution_count": 1,
   "metadata": {},
   "outputs": [],
   "source": [
    "import base"
   ]
  },
  {
   "cell_type": "code",
   "execution_count": 13,
   "metadata": {},
   "outputs": [],
   "source": [
    "text = {\n",
    "    \"id\": \"ew\",\n",
    "    \"type\": \"text\",\n",
    "    \"value\": \"21\",\n",
    "    \"x\": 0,\n",
    "    \"y\": 0,\n",
    "    \"size\": 2,\n",
    "    \"font\": \"BEBAS\",\n",
    "    \"angle\": 90.2\n",
    "}"
   ]
  },
  {
   "cell_type": "code",
   "execution_count": 22,
   "metadata": {},
   "outputs": [],
   "source": [
    "radial = {\n",
    "      \"id\": \"lel\",\n",
    "      \"type\": \"linear\",\n",
    "      \"value\": \"some_value\",\n",
    "      \"max_value\": 123.0,\n",
    "      \"x\": 12,\n",
    "      \"y\": 12,\n",
    "      \"w\": 12,\n",
    "      \"h\": 12,\n",
    "      \"angle\": 91.1,\n",
    "      \"border\": 1\n",
    "      }"
   ]
  },
  {
   "cell_type": "code",
   "execution_count": 23,
   "metadata": {},
   "outputs": [
    {
     "data": {
      "text/plain": [
       "('ok', True)"
      ]
     },
     "execution_count": 23,
     "metadata": {},
     "output_type": "execute_result"
    }
   ],
   "source": [
    "base.set_cover(\"321\", [text, radial], {})"
   ]
  },
  {
   "cell_type": "code",
   "execution_count": 14,
   "metadata": {},
   "outputs": [],
   "source": [
    "image = open(\"db2.png\", \"rb\").read()"
   ]
  },
  {
   "cell_type": "code",
   "execution_count": 15,
   "metadata": {},
   "outputs": [],
   "source": [
    "from base64 import decodebytes, encodebytes"
   ]
  },
  {
   "cell_type": "code",
   "execution_count": 16,
   "metadata": {},
   "outputs": [],
   "source": [
    "image = encodebytes(image)"
   ]
  },
  {
   "cell_type": "code",
   "execution_count": 17,
   "metadata": {},
   "outputs": [],
   "source": [
    "res = {\n",
    "    'lel:bar': image,\n",
    "    'lel:stand': image\n",
    "}"
   ]
  },
  {
   "cell_type": "code",
   "execution_count": 20,
   "metadata": {},
   "outputs": [
    {
     "data": {
      "text/plain": [
       "('ok', True)"
      ]
     },
     "execution_count": 20,
     "metadata": {},
     "output_type": "execute_result"
    }
   ],
   "source": [
    "base.set_cover(\"321\", [text, radial], res)"
   ]
  },
  {
   "cell_type": "code",
   "execution_count": 4,
   "metadata": {},
   "outputs": [
    {
     "name": "stdout",
     "output_type": "stream",
     "text": [
      "{'views': [{'id': 'ew', 'type': 'text', 'value': '21', 'x': 0, 'y': 0, 'size': 2, 'font': 'BEBAS', 'angle': 90.2}, {'id': 'lel', 'type': 'radial', 'value': 'some_value', 'max_value': 123.0, 'x': 12, 'y': 12, 'w': 12, 'h': 12, 'angle': 91.1, 'start_angle': 91.1, 'direction': 1, 'border': 1}], 'resources': {'lel:bar': 'https://s3.us-east-2.amazonaws.com/donatelo/321:lel:bar.png', 'lel:stand': 'https://s3.us-east-2.amazonaws.com/donatelo/321:lel:stand.png'}}\n"
     ]
    }
   ],
   "source": [
    "print((base.get_cover(\"321\")))"
   ]
  },
  {
   "cell_type": "code",
   "execution_count": 5,
   "metadata": {},
   "outputs": [],
   "source": [
    "import pprint"
   ]
  },
  {
   "cell_type": "code",
   "execution_count": 7,
   "metadata": {},
   "outputs": [],
   "source": [
    "pp = pprint.PrettyPrinter()"
   ]
  },
  {
   "cell_type": "code",
   "execution_count": 21,
   "metadata": {},
   "outputs": [
    {
     "name": "stdout",
     "output_type": "stream",
     "text": [
      "{'resources': {'lel:bar': 'https://s3.us-east-2.amazonaws.com/donatelo/321:lel:bar.png',\n",
      "               'lel:stand': 'https://s3.us-east-2.amazonaws.com/donatelo/321:lel:stand.png'},\n",
      " 'views': [{'angle': 90.2,\n",
      "            'font': 'BEBAS',\n",
      "            'id': 'ew',\n",
      "            'size': 2,\n",
      "            'type': 'text',\n",
      "            'value': '21',\n",
      "            'x': 0,\n",
      "            'y': 0},\n",
      "           {'angle': 91.1,\n",
      "            'border': 1,\n",
      "            'h': 12,\n",
      "            'id': 'lel',\n",
      "            'max_value': 123.0,\n",
      "            'type': 'linear',\n",
      "            'value': 'some_value',\n",
      "            'w': 12,\n",
      "            'x': 12,\n",
      "            'y': 12}]}\n"
     ]
    }
   ],
   "source": [
    "pp.pprint((base.get_cover(\"321\")))"
   ]
  },
  {
   "cell_type": "code",
   "execution_count": null,
   "metadata": {},
   "outputs": [],
   "source": []
  }
 ],
 "metadata": {
  "kernelspec": {
   "display_name": "Python 3",
   "language": "python",
   "name": "python3"
  },
  "language_info": {
   "codemirror_mode": {
    "name": "ipython",
    "version": 3
   },
   "file_extension": ".py",
   "mimetype": "text/x-python",
   "name": "python",
   "nbconvert_exporter": "python",
   "pygments_lexer": "ipython3",
   "version": "3.6.3"
  }
 },
 "nbformat": 4,
 "nbformat_minor": 2
}
