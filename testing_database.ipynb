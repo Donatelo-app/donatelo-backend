{
 "cells": [
  {
   "cell_type": "code",
   "execution_count": 1,
   "metadata": {},
   "outputs": [],
   "source": [
    "import base"
   ]
  },
  {
   "cell_type": "code",
   "execution_count": 2,
   "metadata": {},
   "outputs": [],
   "source": [
    "text = {\n",
    "    \"id\": \"ew\",\n",
    "    \"type\": \"text\",\n",
    "    \"value\": \"21\",\n",
    "    \"x\": 0,\n",
    "    \"y\": 0,\n",
    "    \"size\": 2,\n",
    "    \"font\": \"BEBAS\",\n",
    "    \"color\": \"#FF00FF\",\n",
    "    \"angle\": 90.2\n",
    "}"
   ]
  },
  {
   "cell_type": "code",
   "execution_count": 3,
   "metadata": {},
   "outputs": [],
   "source": [
    "radial = {\n",
    "      \"id\": \"lel\",\n",
    "      \"type\": \"linear\",\n",
    "      \"value\": \"some_value\",\n",
    "      \"max_value\": 123.0,\n",
    "      \"x\": 12,\n",
    "      \"y\": 12,\n",
    "      \"w\": 12,\n",
    "      \"h\": 12,\n",
    "      \"angle\": 91.1,\n",
    "      \"border\": 1\n",
    "      }\n",
    "\n",
    "image = {\"id\": \"IMAGE\",\n",
    "          \"type\": \"image\",\n",
    "          \"value\": \"https://rb.ru/media/thumb/shutterstock_725386717.jpg.700x468_q95.jpg\",\n",
    "          \"x\": 0,\n",
    "          \"y\": 0,\n",
    "          \"w\": 10,\n",
    "          \"h\": 10,\n",
    "          \"angle\": 10.0\n",
    "          }"
   ]
  },
  {
   "cell_type": "code",
   "execution_count": 33,
   "metadata": {},
   "outputs": [],
   "source": [
    "gid = \"43251222\""
   ]
  },
  {
   "cell_type": "code",
   "execution_count": 35,
   "metadata": {},
   "outputs": [
    {
     "data": {
      "text/plain": [
       "('ok', True)"
      ]
     },
     "execution_count": 35,
     "metadata": {},
     "output_type": "execute_result"
    }
   ],
   "source": [
    "base.set_cover(gid, [text, radial, image], {})"
   ]
  },
  {
   "cell_type": "code",
   "execution_count": 15,
   "metadata": {},
   "outputs": [],
   "source": [
    "image = open(\"db2.png\", \"rb\").read()"
   ]
  },
  {
   "cell_type": "code",
   "execution_count": 16,
   "metadata": {},
   "outputs": [],
   "source": [
    "from base64 import decodebytes, encodebytes"
   ]
  },
  {
   "cell_type": "code",
   "execution_count": 17,
   "metadata": {},
   "outputs": [],
   "source": [
    "image = encodebytes(image).decode()"
   ]
  },
  {
   "cell_type": "code",
   "execution_count": 18,
   "metadata": {},
   "outputs": [],
   "source": [
    "res = {\n",
    "    'lel:bar': image,\n",
    "    'lel:stand': image,\n",
    "    \"background\": image,\n",
    "}"
   ]
  },
  {
   "cell_type": "code",
   "execution_count": 19,
   "metadata": {},
   "outputs": [
    {
     "data": {
      "text/plain": [
       "('Group already exist', False)"
      ]
     },
     "execution_count": 19,
     "metadata": {},
     "output_type": "execute_result"
    }
   ],
   "source": [
    "base.create_group(gid, \"access_token\")"
   ]
  },
  {
   "cell_type": "code",
   "execution_count": 4,
   "metadata": {},
   "outputs": [
    {
     "data": {
      "text/plain": [
       "('ok', True)"
      ]
     },
     "execution_count": 4,
     "metadata": {},
     "output_type": "execute_result"
    }
   ],
   "source": [
    "base.set_cover(gid, [text, radial, image], {})"
   ]
  },
  {
   "cell_type": "code",
   "execution_count": 5,
   "metadata": {},
   "outputs": [],
   "source": [
    "import pprint"
   ]
  },
  {
   "cell_type": "code",
   "execution_count": 6,
   "metadata": {},
   "outputs": [
    {
     "data": {
      "text/plain": [
       "[{'angle': 90.2,\n",
       "  'color': '#FF00FF',\n",
       "  'font': 'BEBAS',\n",
       "  'id': 'ew',\n",
       "  'size': 2,\n",
       "  'type': 'text',\n",
       "  'value': '21',\n",
       "  'x': 0,\n",
       "  'y': 0},\n",
       " {'angle': 91.1,\n",
       "  'border': 1,\n",
       "  'h': 12,\n",
       "  'id': 'lel',\n",
       "  'max_value': 123.0,\n",
       "  'type': 'linear',\n",
       "  'value': 'some_value',\n",
       "  'w': 12,\n",
       "  'x': 12,\n",
       "  'y': 12},\n",
       " {'angle': 10.0,\n",
       "  'h': 10,\n",
       "  'id': 'IMAGE',\n",
       "  'type': 'image',\n",
       "  'value': 'https://rb.ru/media/thumb/shutterstock_725386717.jpg.700x468_q95.jpg',\n",
       "  'w': 10,\n",
       "  'x': 0,\n",
       "  'y': 0}]"
      ]
     },
     "execution_count": 6,
     "metadata": {},
     "output_type": "execute_result"
    }
   ],
   "source": [
    "base.get_cover(gid)[0][\"views\"]"
   ]
  },
  {
   "cell_type": "code",
   "execution_count": 7,
   "metadata": {},
   "outputs": [],
   "source": [
    "pp = pprint.PrettyPrinter()"
   ]
  },
  {
   "cell_type": "code",
   "execution_count": 8,
   "metadata": {},
   "outputs": [
    {
     "name": "stdout",
     "output_type": "stream",
     "text": [
      "({'resources': {'background': 'https://s3.us-east-2.amazonaws.com/donatelo/43251222:background.png',\n",
      "                'lel:bar': 'https://s3.us-east-2.amazonaws.com/donatelo/43251222:lel:bar.png',\n",
      "                'lel:stand': 'https://s3.us-east-2.amazonaws.com/donatelo/43251222:lel:stand.png'},\n",
      "  'views': [{'angle': 90.2,\n",
      "             'color': '#FF00FF',\n",
      "             'font': 'BEBAS',\n",
      "             'id': 'ew',\n",
      "             'size': 2,\n",
      "             'type': 'text',\n",
      "             'value': '21',\n",
      "             'x': 0,\n",
      "             'y': 0},\n",
      "            {'angle': 91.1,\n",
      "             'border': 1,\n",
      "             'h': 12,\n",
      "             'id': 'lel',\n",
      "             'max_value': 123.0,\n",
      "             'type': 'linear',\n",
      "             'value': 'some_value',\n",
      "             'w': 12,\n",
      "             'x': 12,\n",
      "             'y': 12},\n",
      "            {'angle': 10.0,\n",
      "             'h': 10,\n",
      "             'id': 'IMAGE',\n",
      "             'type': 'image',\n",
      "             'value': 'https://rb.ru/media/thumb/shutterstock_725386717.jpg.700x468_q95.jpg',\n",
      "             'w': 10,\n",
      "             'x': 0,\n",
      "             'y': 0}]},\n",
      " True)\n"
     ]
    }
   ],
   "source": [
    "pp.pprint((base.get_cover(gid)))"
   ]
  },
  {
   "cell_type": "code",
   "execution_count": 9,
   "metadata": {},
   "outputs": [
    {
     "data": {
      "text/plain": [
       "({}, True)"
      ]
     },
     "execution_count": 9,
     "metadata": {},
     "output_type": "execute_result"
    }
   ],
   "source": [
    "base.get_enviroment(gid)"
   ]
  },
  {
   "cell_type": "code",
   "execution_count": 10,
   "metadata": {},
   "outputs": [
    {
     "name": "stderr",
     "output_type": "stream",
     "text": [
      "c:\\users\\alxmamaev\\appdata\\local\\programs\\python\\python36-32\\lib\\site-packages\\ipykernel_launcher.py:1: DeprecationWarning: insert is deprecated. Use insert_one or insert_many instead.\n",
      "  \"\"\"Entry point for launching an IPython kernel.\n"
     ]
    },
    {
     "data": {
      "text/plain": [
       "ObjectId('5a0a9cca3b529623545573c4')"
      ]
     },
     "execution_count": 10,
     "metadata": {},
     "output_type": "execute_result"
    }
   ],
   "source": [
    "base.mongo.env.insert({\"group_id\":\"lol\", \"enviroment\":{}})"
   ]
  },
  {
   "cell_type": "code",
   "execution_count": 11,
   "metadata": {},
   "outputs": [],
   "source": [
    "enviroment = base.mongo.env.find_one({\"group_id\":gid})"
   ]
  },
  {
   "cell_type": "code",
   "execution_count": 12,
   "metadata": {},
   "outputs": [
    {
     "data": {
      "text/plain": [
       "{'_id': ObjectId('5a07281e3b52961e6416aaa0'),\n",
       " 'enviroment': {},\n",
       " 'group_id': '43251222'}"
      ]
     },
     "execution_count": 12,
     "metadata": {},
     "output_type": "execute_result"
    }
   ],
   "source": [
    "enviroment"
   ]
  },
  {
   "cell_type": "code",
   "execution_count": 13,
   "metadata": {},
   "outputs": [
    {
     "name": "stderr",
     "output_type": "stream",
     "text": [
      "c:\\users\\alxmamaev\\appdata\\local\\programs\\python\\python36-32\\lib\\site-packages\\ipykernel_launcher.py:1: DeprecationWarning: insert is deprecated. Use insert_one or insert_many instead.\n",
      "  \"\"\"Entry point for launching an IPython kernel.\n"
     ]
    },
    {
     "data": {
      "text/plain": [
       "ObjectId('5a0a9cca3b529623545573c5')"
      ]
     },
     "execution_count": 13,
     "metadata": {},
     "output_type": "execute_result"
    }
   ],
   "source": [
    "base.mongo.env.insert({\"group_id\":gid, \"enviroment\":{}})"
   ]
  },
  {
   "cell_type": "code",
   "execution_count": 14,
   "metadata": {},
   "outputs": [
    {
     "data": {
      "text/plain": [
       "{'_id': ObjectId('5a07281e3b52961e6416aaa0'),\n",
       " 'enviroment': {},\n",
       " 'group_id': '43251222'}"
      ]
     },
     "execution_count": 14,
     "metadata": {},
     "output_type": "execute_result"
    }
   ],
   "source": [
    "base.mongo.env.find_one({\"group_id\":gid})"
   ]
  },
  {
   "cell_type": "code",
   "execution_count": 15,
   "metadata": {},
   "outputs": [],
   "source": [
    "from io import BytesIO\n",
    "from PIL import Image"
   ]
  },
  {
   "cell_type": "code",
   "execution_count": 16,
   "metadata": {},
   "outputs": [],
   "source": [
    "img = BytesIO()"
   ]
  },
  {
   "cell_type": "code",
   "execution_count": null,
   "metadata": {},
   "outputs": [],
   "source": [
    "img.seek(0)"
   ]
  },
  {
   "cell_type": "code",
   "execution_count": null,
   "metadata": {},
   "outputs": [],
   "source": [
    "k = img.read()"
   ]
  },
  {
   "cell_type": "code",
   "execution_count": null,
   "metadata": {},
   "outputs": [],
   "source": [
    "d = BytesIO(k)"
   ]
  },
  {
   "cell_type": "code",
   "execution_count": null,
   "metadata": {},
   "outputs": [],
   "source": [
    "Image.open(d)"
   ]
  },
  {
   "cell_type": "code",
   "execution_count": null,
   "metadata": {},
   "outputs": [],
   "source": [
    "import requests"
   ]
  },
  {
   "cell_type": "code",
   "execution_count": null,
   "metadata": {},
   "outputs": [],
   "source": [
    "img = requests.get(\"https://s3.us-east-2.amazonaws.com/donatelo/43251222:background.png\").content"
   ]
  },
  {
   "cell_type": "code",
   "execution_count": null,
   "metadata": {},
   "outputs": [],
   "source": [
    "Image.open(BytesIO(img))"
   ]
  },
  {
   "cell_type": "code",
   "execution_count": 1,
   "metadata": {},
   "outputs": [
    {
     "data": {
      "image/png": "[encoded data removed]",
      "text/plain": [
       "<PIL.Image.Image image mode=RGBA size=1280x364 at 0x605AB30>"
      ]
     },
     "execution_count": 1,
     "metadata": {},
     "output_type": "execute_result"
    }
   ],
   "source": [
    "import base\n",
    "gid = \"43251222\"\n",
    "base.get_cover_image(gid)"
   ]
  },
  {
   "cell_type": "code",
   "execution_count": 2,
   "metadata": {},
   "outputs": [],
   "source": [
    "import render"
   ]
  },
  {
   "cell_type": "code",
   "execution_count": null,
   "metadata": {},
   "outputs": [],
   "source": []
  }
 ],
 "metadata": {
  "kernelspec": {
   "display_name": "Python 3",
   "language": "python",
   "name": "python3"
  },
  "language_info": {
   "codemirror_mode": {
    "name": "ipython",
    "version": 3
   },
   "file_extension": ".py",
   "mimetype": "text/x-python",
   "name": "python",
   "nbconvert_exporter": "python",
   "pygments_lexer": "ipython3",
   "version": "3.6.3"
  }
 },
 "nbformat": 4,
 "nbformat_minor": 2
}
