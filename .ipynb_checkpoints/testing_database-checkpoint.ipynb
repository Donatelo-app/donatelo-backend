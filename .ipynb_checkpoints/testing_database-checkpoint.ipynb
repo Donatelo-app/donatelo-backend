{
 "cells": [
  {
   "cell_type": "code",
   "execution_count": 1,
   "metadata": {},
   "outputs": [],
   "source": [
    "import base"
   ]
  },
  {
   "cell_type": "code",
   "execution_count": 2,
   "metadata": {},
   "outputs": [],
   "source": [
    "text = {\n",
    "    \"id\": \"ew\",\n",
    "    \"type\": \"text\",\n",
    "    \"value\": \"21\",\n",
    "    \"x\": 0,\n",
    "    \"y\": 0,\n",
    "    \"size\": 2,\n",
    "    \"font\": \"BEBAS\",\n",
    "    \"angle\": 90.2\n",
    "}"
   ]
  },
  {
   "cell_type": "code",
   "execution_count": 3,
   "metadata": {},
   "outputs": [],
   "source": [
    "radial = {\n",
    "      \"id\": \"lel\",\n",
    "      \"type\": \"linear\",\n",
    "      \"value\": \"some_value\",\n",
    "      \"max_value\": 123.0,\n",
    "      \"x\": 12,\n",
    "      \"y\": 12,\n",
    "      \"w\": 12,\n",
    "      \"h\": 12,\n",
    "      \"angle\": 91.1,\n",
    "      \"border\": 1\n",
    "      }"
   ]
  },
  {
   "cell_type": "code",
   "execution_count": 4,
   "metadata": {},
   "outputs": [],
   "source": [
    "gid = \"432512211\""
   ]
  },
  {
   "cell_type": "code",
   "execution_count": 5,
   "metadata": {},
   "outputs": [
    {
     "data": {
      "text/plain": [
       "('ok', True)"
      ]
     },
     "execution_count": 5,
     "metadata": {},
     "output_type": "execute_result"
    }
   ],
   "source": [
    "base.set_cover(gid, [text, radial], {})"
   ]
  },
  {
   "cell_type": "code",
   "execution_count": 6,
   "metadata": {},
   "outputs": [],
   "source": [
    "image = open(\"db2.png\", \"rb\").read()"
   ]
  },
  {
   "cell_type": "code",
   "execution_count": 7,
   "metadata": {},
   "outputs": [],
   "source": [
    "from base64 import decodebytes, encodebytes"
   ]
  },
  {
   "cell_type": "code",
   "execution_count": 8,
   "metadata": {},
   "outputs": [],
   "source": [
    "image = encodebytes(image)"
   ]
  },
  {
   "cell_type": "code",
   "execution_count": 9,
   "metadata": {},
   "outputs": [],
   "source": [
    "res = {\n",
    "    'lel:bar': image,\n",
    "    'lel:stand': image\n",
    "}"
   ]
  },
  {
   "cell_type": "code",
   "execution_count": 10,
   "metadata": {},
   "outputs": [
    {
     "data": {
      "text/plain": [
       "('ok', True)"
      ]
     },
     "execution_count": 10,
     "metadata": {},
     "output_type": "execute_result"
    }
   ],
   "source": [
    "base.set_cover(gid, [text, radial], res)"
   ]
  },
  {
   "cell_type": "code",
   "execution_count": 11,
   "metadata": {},
   "outputs": [],
   "source": [
    "import pprint"
   ]
  },
  {
   "cell_type": "code",
   "execution_count": 12,
   "metadata": {},
   "outputs": [],
   "source": [
    "pp = pprint.PrettyPrinter()"
   ]
  },
  {
   "cell_type": "code",
   "execution_count": 13,
   "metadata": {},
   "outputs": [
    {
     "name": "stdout",
     "output_type": "stream",
     "text": [
      "({'resources': {'lel:bar': 'https://s3.us-east-2.amazonaws.com/donatelo/432512211:lel:bar.png',\n",
      "                'lel:stand': 'https://s3.us-east-2.amazonaws.com/donatelo/432512211:lel:stand.png'},\n",
      "  'views': [{'angle': 90.2,\n",
      "             'font': 'BEBAS',\n",
      "             'id': 'ew',\n",
      "             'size': 2,\n",
      "             'type': 'text',\n",
      "             'value': '21',\n",
      "             'x': 0,\n",
      "             'y': 0},\n",
      "            {'angle': 91.1,\n",
      "             'border': 1,\n",
      "             'h': 12,\n",
      "             'id': 'lel',\n",
      "             'max_value': 123.0,\n",
      "             'type': 'linear',\n",
      "             'value': 'some_value',\n",
      "             'w': 12,\n",
      "             'x': 12,\n",
      "             'y': 12}]},\n",
      " True)\n"
     ]
    }
   ],
   "source": [
    "pp.pprint((base.get_cover(gid)))"
   ]
  },
  {
   "cell_type": "code",
   "execution_count": 14,
   "metadata": {},
   "outputs": [
    {
     "data": {
      "text/plain": [
       "('Unknown group id', False)"
      ]
     },
     "execution_count": 14,
     "metadata": {},
     "output_type": "execute_result"
    }
   ],
   "source": [
    "base.get_enviroment(gid)"
   ]
  },
  {
   "cell_type": "code",
   "execution_count": 56,
   "metadata": {},
   "outputs": [
    {
     "name": "stderr",
     "output_type": "stream",
     "text": [
      "c:\\users\\alxmamaev\\appdata\\local\\programs\\python\\python36-32\\lib\\site-packages\\ipykernel_launcher.py:1: DeprecationWarning: insert is deprecated. Use insert_one or insert_many instead.\n",
      "  \"\"\"Entry point for launching an IPython kernel.\n"
     ]
    },
    {
     "data": {
      "text/plain": [
       "ObjectId('5a05441a3b529620b00f5d93')"
      ]
     },
     "execution_count": 56,
     "metadata": {},
     "output_type": "execute_result"
    }
   ],
   "source": [
    "base.mongo.env.insert({\"group_id\":\"lol\", \"enviroment\":{}})"
   ]
  },
  {
   "cell_type": "code",
   "execution_count": 23,
   "metadata": {},
   "outputs": [],
   "source": [
    "enviroment = base.mongo.env.find_one({\"group_id\":gid})"
   ]
  },
  {
   "cell_type": "code",
   "execution_count": 24,
   "metadata": {},
   "outputs": [],
   "source": [
    "enviroment"
   ]
  },
  {
   "cell_type": "code",
   "execution_count": 19,
   "metadata": {},
   "outputs": [
    {
     "name": "stderr",
     "output_type": "stream",
     "text": [
      "c:\\users\\alxmamaev\\appdata\\local\\programs\\python\\python36-32\\lib\\site-packages\\ipykernel_launcher.py:1: DeprecationWarning: insert is deprecated. Use insert_one or insert_many instead.\n",
      "  \"\"\"Entry point for launching an IPython kernel.\n"
     ]
    },
    {
     "data": {
      "text/plain": [
       "ObjectId('5a0544aa3b529613dcb2f585')"
      ]
     },
     "execution_count": 19,
     "metadata": {},
     "output_type": "execute_result"
    }
   ],
   "source": [
    "base.mongo.env.insert({\"group_id\":\"kek\", \"enviroment\":{}})"
   ]
  },
  {
   "cell_type": "code",
   "execution_count": 25,
   "metadata": {},
   "outputs": [],
   "source": [
    "base.mongo.env.find_one({\"kek\":\"lol\"})"
   ]
  },
  {
   "cell_type": "code",
   "execution_count": null,
   "metadata": {},
   "outputs": [],
   "source": []
  }
 ],
 "metadata": {
  "kernelspec": {
   "display_name": "Python 3",
   "language": "python",
   "name": "python3"
  },
  "language_info": {
   "codemirror_mode": {
    "name": "ipython",
    "version": 3
   },
   "file_extension": ".py",
   "mimetype": "text/x-python",
   "name": "python",
   "nbconvert_exporter": "python",
   "pygments_lexer": "ipython3",
   "version": "3.6.3"
  }
 },
 "nbformat": 4,
 "nbformat_minor": 2
}
